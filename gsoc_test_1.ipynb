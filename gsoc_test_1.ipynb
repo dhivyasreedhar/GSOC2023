{
  "nbformat": 4,
  "nbformat_minor": 0,
  "metadata": {
    "colab": {
      "provenance": [],
      "authorship_tag": "ABX9TyNfhO458ga5JVHO3CwS9wFV",
      "include_colab_link": true
    },
    "kernelspec": {
      "name": "python3",
      "display_name": "Python 3"
    },
    "language_info": {
      "name": "python"
    },
    "accelerator": "GPU",
    "gpuClass": "standard"
  },
  "cells": [
    {
      "cell_type": "markdown",
      "metadata": {
        "id": "view-in-github",
        "colab_type": "text"
      },
      "source": [
        "<a href=\"https://colab.research.google.com/github/dhivyasreedhar/GSOC2023/blob/main/gsoc_test_1.ipynb\" target=\"_parent\"><img src=\"https://colab.research.google.com/assets/colab-badge.svg\" alt=\"Open In Colab\"/></a>"
      ]
    },
    {
      "cell_type": "code",
      "execution_count": 16,
      "metadata": {
        "id": "7x8medDFYTAi"
      },
      "outputs": [],
      "source": [
        "import h5py\n",
        "import numpy as np\n",
        "import matplotlib.pyplot as plt\n",
        "import tensorflow as tf\n",
        "from tensorflow import *\n",
        "from tensorflow.keras.models import Sequential\n",
        "from tensorflow.keras import datasets, layers, models\n",
        "from sklearn.metrics import roc_curve, auc\n",
        "from sklearn import datasets, linear_model\n",
        "from sklearn.model_selection import train_test_split\n",
        "#roc curve and auc\n",
        "from sklearn.datasets import make_classification\n",
        "from sklearn.linear_model import LogisticRegression\n",
        "from sklearn.model_selection import train_test_split\n",
        "from sklearn.metrics import roc_curve\n",
        "from sklearn.metrics import roc_auc_score\n",
        "from matplotlib import pyplot\n",
        "import numpy as np\n",
        "import pandas as pd\n",
        "import matplotlib.pyplot as plt\n",
        "import seaborn as sns\n",
        "# roc curve and auc score\n",
        "from sklearn.datasets import make_classification\n",
        "# from sklearn.neighbors import KNeighbors Classifier\n",
        "from sklearn.ensemble import RandomForestClassifier\n",
        "from sklearn.model_selection import train_test_split\n",
        "from sklearn.metrics import roc_curve\n",
        "from sklearn.metrics import roc_auc_score\n",
        "from tensorflow import keras\n",
        "from tensorflow.keras.layers import Conv2D, MaxPooling2D, Dense, Flatten, Activation\n",
        "from sklearn import metrics"
      ]
    },
    {
      "cell_type": "code",
      "source": [
        "img_rows, img_cols, nb_channels = 32, 32, 2\n",
        "input_dir= '/content'\n",
        "decays=['SingleElectronPt50_IMGCROPS_n249k_RHv1', 'SinglePhotonPt50_IMGCROPS_n249k_RHv1']\n",
        "def load_data(decays, start, stop):\n",
        "  global input_dir\n",
        "  dsets = [h5py.File('%s/%s.hdf5'% (input_dir,decay)) for decay in decays]\n",
        "  X = np. concatenate([dset['/X' ][start:stop] for dset in dsets])\n",
        "  y = np. concatenate ([dset['/y'][start:stop] for dset in dsets])\n",
        "  assert len(X) == len (y)\n",
        "  return X, y"
      ],
      "metadata": {
        "id": "SL8dQZGDO5Xp"
      },
      "execution_count": 5,
      "outputs": []
    },
    {
      "cell_type": "code",
      "source": [
        "lr_init = 1.e-3\n",
        "batch_size = 64\n",
        "epochs = 20\n",
        "start =0\n",
        "stop = 16000\n"
      ],
      "metadata": {
        "id": "iAswt93vPwc9"
      },
      "execution_count": 6,
      "outputs": []
    },
    {
      "cell_type": "code",
      "source": [
        "X, y = load_data(decays, start, stop) #use train test split\n",
        "X_train, X_test, y_train, y_test = train_test_split(X, y, test_size = 0.2, random_state=24)\n",
        "X_train, X_val, y_train, y_val= train_test_split(X_train, y_train, test_size=0.1, random_state=2)"
      ],
      "metadata": {
        "id": "YRbXnv_rP_5-"
      },
      "execution_count": 7,
      "outputs": []
    },
    {
      "cell_type": "code",
      "source": [
        "plt. figure (1)\n",
        "plt.subplot (221)\n",
        "plt.imshow(X_train[1,:,:,0])\n",
        "plt.title(\"Channel 0: Energy\") # Energy\n",
        "plt.grid(True)\n",
        "plt.subplot (222)\n",
        "plt.imshow (X_train[1,:,:,1])\n",
        "plt.title(\"Channel 1: Time\") # Time\n",
        "plt.grid (True)\n",
        "plt.show()"
      ],
      "metadata": {
        "colab": {
          "base_uri": "https://localhost:8080/",
          "height": 163
        },
        "id": "6FfO47qhQuyM",
        "outputId": "d0a631ea-691f-4862-c5dd-b12885ad332d"
      },
      "execution_count": 8,
      "outputs": [
        {
          "output_type": "display_data",
          "data": {
            "text/plain": [
              "<Figure size 432x288 with 2 Axes>"
            ],
            "image/png": "[encoded data removed]"
          },
          "metadata": {
            "needs_background": "light"
          }
        }
      ]
    },
    {
      "cell_type": "code",
      "source": [
        "model = models.Sequential()\n",
        "\n",
        "model.add(layers.Conv2D(32, (3, 3), activation='relu', input_shape=(32,32,2)))\n",
        "\n",
        "model.add(layers.MaxPooling2D((2,2)))\n",
        "\n",
        "model.add(layers.Conv2D(64, (3, 3), activation='relu'))\n",
        "\n",
        "model.add(layers.Conv2D(64, (3, 3), activation='relu'))\n",
        "\n",
        "#model.add(layers.MaxPooling2D((2,2)))\n",
        "\n",
        "model.add(layers.Conv2D(64, (3, 3), activation='relu'))\n",
        "\n",
        "#model.add(layers.MaxPooling2D((2, 2)))\n",
        "\n",
        "model.add(layers.Conv2D(64, (3, 3), activation='relu'))\n",
        "\n",
        "model.add(layers.Conv2D(64, (3, 3), activation='relu'))\n",
        "\n",
        "model.add(layers.MaxPooling2D((2, 2)))\n",
        "\n",
        "model.add(layers. Flatten())\n",
        "\n",
        "model.add(layers.Dense (64, activation='relu'))\n",
        "\n",
        "model.add(layers.Dense(128, activation='relu'))\n",
        "\n",
        "model.add(layers.Dense(1, activation='sigmoid'))"
      ],
      "metadata": {
        "id": "Rf5-tqezQ1kU"
      },
      "execution_count": 9,
      "outputs": []
    },
    {
      "cell_type": "code",
      "source": [
        "model.compile(\n",
        "\n",
        "loss=tf.keras. losses.binary_crossentropy,\n",
        "\n",
        "optimizer=tf.keras.optimizers.Adam(learning_rate=1.e-3),\n",
        "\n",
        "metrics=[tf.keras.metrics.BinaryAccuracy (name='accuracy')]\n",
        ")"
      ],
      "metadata": {
        "id": "A0npxqLTS562"
      },
      "execution_count": 10,
      "outputs": []
    },
    {
      "cell_type": "code",
      "source": [
        "model.fit(X_train, y_train, batch_size=32, epochs=15, validation_data=(X_val, y_val), verbose=2)"
      ],
      "metadata": {
        "colab": {
          "base_uri": "https://localhost:8080/"
        },
        "id": "rfwbsoJKTTN-",
        "outputId": "3c3436dc-8478-44bc-d185-77942dd9a86a"
      },
      "execution_count": 11,
      "outputs": [
        {
          "output_type": "stream",
          "name": "stdout",
          "text": [
            "Epoch 1/15\n",
            "720/720 - 17s - loss: 0.6822 - accuracy: 0.5508 - val_loss: 0.6575 - val_accuracy: 0.6109 - 17s/epoch - 24ms/step\n",
            "Epoch 2/15\n",
            "720/720 - 4s - loss: 0.6600 - accuracy: 0.6072 - val_loss: 0.6505 - val_accuracy: 0.6145 - 4s/epoch - 5ms/step\n",
            "Epoch 3/15\n",
            "720/720 - 4s - loss: 0.6509 - accuracy: 0.6199 - val_loss: 0.6541 - val_accuracy: 0.6184 - 4s/epoch - 5ms/step\n",
            "Epoch 4/15\n",
            "720/720 - 4s - loss: 0.6397 - accuracy: 0.6380 - val_loss: 0.6379 - val_accuracy: 0.6340 - 4s/epoch - 6ms/step\n",
            "Epoch 5/15\n",
            "720/720 - 4s - loss: 0.6293 - accuracy: 0.6503 - val_loss: 0.6494 - val_accuracy: 0.6254 - 4s/epoch - 5ms/step\n",
            "Epoch 6/15\n",
            "720/720 - 4s - loss: 0.6194 - accuracy: 0.6577 - val_loss: 0.6217 - val_accuracy: 0.6574 - 4s/epoch - 5ms/step\n",
            "Epoch 7/15\n",
            "720/720 - 4s - loss: 0.6126 - accuracy: 0.6700 - val_loss: 0.6231 - val_accuracy: 0.6488 - 4s/epoch - 5ms/step\n",
            "Epoch 8/15\n",
            "720/720 - 3s - loss: 0.6064 - accuracy: 0.6772 - val_loss: 0.6293 - val_accuracy: 0.6551 - 3s/epoch - 5ms/step\n",
            "Epoch 9/15\n",
            "720/720 - 4s - loss: 0.6032 - accuracy: 0.6806 - val_loss: 0.6221 - val_accuracy: 0.6746 - 4s/epoch - 5ms/step\n",
            "Epoch 10/15\n",
            "720/720 - 4s - loss: 0.5963 - accuracy: 0.6863 - val_loss: 0.6154 - val_accuracy: 0.6668 - 4s/epoch - 6ms/step\n",
            "Epoch 11/15\n",
            "720/720 - 3s - loss: 0.5918 - accuracy: 0.6920 - val_loss: 0.6299 - val_accuracy: 0.6590 - 3s/epoch - 5ms/step\n",
            "Epoch 12/15\n",
            "720/720 - 3s - loss: 0.5865 - accuracy: 0.6967 - val_loss: 0.6302 - val_accuracy: 0.6664 - 3s/epoch - 5ms/step\n",
            "Epoch 13/15\n",
            "720/720 - 4s - loss: 0.5787 - accuracy: 0.7018 - val_loss: 0.6368 - val_accuracy: 0.6461 - 4s/epoch - 6ms/step\n",
            "Epoch 14/15\n",
            "720/720 - 3s - loss: 0.5723 - accuracy: 0.7111 - val_loss: 0.6592 - val_accuracy: 0.6539 - 3s/epoch - 5ms/step\n",
            "Epoch 15/15\n",
            "720/720 - 3s - loss: 0.5654 - accuracy: 0.7155 - val_loss: 0.6418 - val_accuracy: 0.6477 - 3s/epoch - 5ms/step\n"
          ]
        },
        {
          "output_type": "execute_result",
          "data": {
            "text/plain": [
              "<keras.callbacks.History at 0x7f14d0320730>"
            ]
          },
          "metadata": {},
          "execution_count": 11
        }
      ]
    },
    {
      "cell_type": "code",
      "source": [
        "y_pred = model.predict(X_test)"
      ],
      "metadata": {
        "colab": {
          "base_uri": "https://localhost:8080/"
        },
        "id": "Pt2-kZ-rkiyb",
        "outputId": "c9dcf32e-b957-4db3-eb73-13fcd09da278"
      },
      "execution_count": 14,
      "outputs": [
        {
          "output_type": "stream",
          "name": "stdout",
          "text": [
            "200/200 [==============================] - 1s 3ms/step\n"
          ]
        }
      ]
    },
    {
      "cell_type": "code",
      "source": [
        "print(\"ROC-AUC Score:\", metrics.roc_auc_score(y_test, y_pred))\n",
        "print(\"AP Score:\", metrics.average_precision_score(y_test, y_pred))"
      ],
      "metadata": {
        "colab": {
          "base_uri": "https://localhost:8080/"
        },
        "id": "ckVhF2qtlWkb",
        "outputId": "b24b2d49-e567-439c-e16b-f11b10b37a42"
      },
      "execution_count": 17,
      "outputs": [
        {
          "output_type": "stream",
          "name": "stdout",
          "text": [
            "ROC-AUC Score: 0.713496730828882\n",
            "AP Score: 0.6600779853765169\n"
          ]
        }
      ]
    }
  ]
}